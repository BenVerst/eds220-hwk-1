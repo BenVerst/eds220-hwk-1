{
 "cells": [
  {
   "cell_type": "markdown",
   "metadata": {},
   "source": [
    "# Task 3\n",
    "\n",
    "First, update the following cell to have a link to your Homework 1 GitHub repository:\n"
   ]
  },
  {
   "cell_type": "markdown",
   "metadata": {},
   "source": [
    "\n",
    "**UPDATE THIS LINK:**\n",
    "\n",
    "https://github.com/BenVerst/eds220-hwk-1\n"
   ]
  },
  {
   "cell_type": "markdown",
   "metadata": {},
   "source": [
    "\n",
    "In this task, make at least 5 commits at moments you think are adequate. We'll look at your repo to check commit history.\n",
    "\n",
    "Add comments for all your code. Err on the side of commenting too much for now. \n",
    "\n",
    "Comments in each exercise and commits will count towards your grade.\n",
    "\n",
    "This task covers topics we will see on Monday Oct. 9. The best strategy to solve it is to get together with your classmates and work on it together after Monday's lecture."
   ]
  },
  {
   "cell_type": "markdown",
   "metadata": {},
   "source": [
    "\n",
    "## 1\n",
    "For this task we are going to use data about  [Western Indian Ocean Coral Diversity (McClanahan, 2023)](https://knb.ecoinformatics.org/view/doi%3A10.5063%2FF1K35S3H) from the Knowledge Network for Biocomplexity (KNB) data repository. \n",
    "\n",
    "a. Navigate to the dataset's link and explore the data package. \n",
    " \n",
    "b. Use the next markdown cell to add a brief description of the dataset, including a citation, date of access, and a link to the archive. \n"
   ]
  },
  {
   "cell_type": "markdown",
   "metadata": {},
   "source": [
    "&nbsp; &nbsp; &nbsp; This data set provides information on coral communities in the Western Indian Ocean. The goal of the study was to develop an ecological model to predict current (2020) and future (2050) numbers of coral taxa at moderate scales. The models explored in the data set were: influences of climate change, water quality, direct human-resource extraction, and variable selection processes on numbers of coral taxa. Some of the frequent variables included in each of the models were: median, skewness, excess heat, rate of temperature rise, kurtosis, observer, depth, wave energy, dissolved oxygen, salinity, chlorophyll-a, calcite concentrations, sunlight, and net primary productivity. \n",
    "\n",
    "This data was accessed on 10/13/2023. \n",
    "Citation: Tim McClanahan. (2023). Western Indian Ocean Coral Diversity. Knowledge Network for Biocomplexity. doi:10.5063/F1K35S3H."
   ]
  },
  {
   "cell_type": "markdown",
   "metadata": {},
   "source": [
    "## 2\n",
    "In the next code cell, import the pandas package using standard abbreviation in a code cell.\n",
    "\n",
    "Read in the data from the URL using the `pd.read_csv` function and store it as `coral_div` like this:\n",
    "\n",
    "```\n",
    "# read in data\n",
    "coral_div = pd.read_csv('the URL goes here')\n",
    "```"
   ]
  },
  {
   "cell_type": "code",
   "execution_count": 3,
   "metadata": {
    "tags": [],
    "vscode": {
     "languageId": "python"
    }
   },
   "outputs": [],
   "source": [
    "#imports pandas\n",
    "import pandas as pd\n",
    "\n",
    "#reads in the data set from a URL and stores it\n",
    "coral_div = pd.read_csv('https://knb.ecoinformatics.org/knb/d1/mn/v2/object/urn%3Auuid%3Ae7d12a5a-f1a9-4a3e-aaa5-5222f67e799d')"
   ]
  },
  {
   "cell_type": "markdown",
   "metadata": {},
   "source": [
    "## 3\n",
    "\n",
    "Use attributes and methods of the `coral_div` data frame to obtain the following information about it:\n",
    "\n",
    "a. how many rows and columns does it have?\n",
    "\n",
    "b. what are the column names?\n",
    "\n",
    "c. what are the data types of the columns?\n",
    "\n",
    "d. display the first 8 rows with all the column names. For this one, you will need to udpate a `pandas` option (see discussion section)\n",
    "\n",
    "e. some inital info you are interested in. \n",
    "\n",
    "Use the code cells marked a-e. For each, add a comment explaining what is the ouput."
   ]
  },
  {
   "cell_type": "code",
   "execution_count": 4,
   "metadata": {
    "tags": [],
    "vscode": {
     "languageId": "python"
    }
   },
   "outputs": [
    {
     "data": {
      "text/plain": [
       "(575, 42)"
      ]
     },
     "execution_count": 4,
     "metadata": {},
     "output_type": "execute_result"
    }
   ],
   "source": [
    "# a\n",
    "#checks how many rows and columns the dataframe has. (rows, columns)\n",
    "coral_div.shape"
   ]
  },
  {
   "cell_type": "code",
   "execution_count": 5,
   "metadata": {
    "tags": [],
    "vscode": {
     "languageId": "python"
    }
   },
   "outputs": [
    {
     "data": {
      "text/plain": [
       "Index(['PU_ID', 'PU_Lat', 'PU_Lon', 'Number_of_genera', 'Country', 'Ecoregion',\n",
       "       'Management', 'Habitat', 'Observer', 'Depth', 'Coralcover',\n",
       "       'SSTRateofRise', 'PARmax', 'Calcite', 'Dis_oxygen', 'mean.waveNRJ',\n",
       "       'Salinity_mean', 'andrello_reef_value', 'andrello_nutrients',\n",
       "       'mean.npp', 'TT_market_hrs', 'TT_pop_hrs', 'cumDHW', 'SST_Kurtosis',\n",
       "       'SST_Median', 'ChlorA_median', 'andrello_sediments', 'Current_vel_mean',\n",
       "       'Diff_attenuation', 'Grav_NP', 'Grav_NC', 'PH', 'SST_bimodality',\n",
       "       'SST_Skewness', 'ClimateStressModel', 'Netflow', 'Indegree',\n",
       "       'Outdegree', 'Retention', 'min_yr', 'max_yr', 'no_replicates'],\n",
       "      dtype='object')"
      ]
     },
     "execution_count": 5,
     "metadata": {},
     "output_type": "execute_result"
    }
   ],
   "source": [
    "# b\n",
    "#displays all the column names\n",
    "coral_div.columns"
   ]
  },
  {
   "cell_type": "code",
   "execution_count": 15,
   "metadata": {
    "tags": [],
    "vscode": {
     "languageId": "python"
    }
   },
   "outputs": [
    {
     "name": "stdout",
     "output_type": "stream",
     "text": [
      "<class 'pandas.core.frame.DataFrame'>\n",
      "RangeIndex: 575 entries, 0 to 574\n",
      "Data columns (total 42 columns):\n",
      " #   Column               Non-Null Count  Dtype  \n",
      "---  ------               --------------  -----  \n",
      " 0   PU_ID                575 non-null    int64  \n",
      " 1   PU_Lat               575 non-null    float64\n",
      " 2   PU_Lon               575 non-null    float64\n",
      " 3   Number_of_genera     575 non-null    int64  \n",
      " 4   Country              575 non-null    object \n",
      " 5   Ecoregion            575 non-null    object \n",
      " 6   Management           575 non-null    object \n",
      " 7   Habitat              530 non-null    object \n",
      " 8   Observer             575 non-null    object \n",
      " 9   Depth                575 non-null    float64\n",
      " 10  Coralcover           575 non-null    int64  \n",
      " 11  SSTRateofRise        575 non-null    float64\n",
      " 12  PARmax               575 non-null    float64\n",
      " 13  Calcite              575 non-null    float64\n",
      " 14  Dis_oxygen           575 non-null    float64\n",
      " 15  mean.waveNRJ         575 non-null    float64\n",
      " 16  Salinity_mean        575 non-null    float64\n",
      " 17  andrello_reef_value  575 non-null    int64  \n",
      " 18  andrello_nutrients   575 non-null    float64\n",
      " 19  mean.npp             575 non-null    float64\n",
      " 20  TT_market_hrs        575 non-null    float64\n",
      " 21  TT_pop_hrs           575 non-null    float64\n",
      " 22  cumDHW               575 non-null    float64\n",
      " 23  SST_Kurtosis         575 non-null    float64\n",
      " 24  SST_Median           575 non-null    float64\n",
      " 25  ChlorA_median        575 non-null    float64\n",
      " 26  andrello_sediments   575 non-null    float64\n",
      " 27  Current_vel_mean     567 non-null    float64\n",
      " 28  Diff_attenuation     575 non-null    float64\n",
      " 29  Grav_NP              575 non-null    float64\n",
      " 30  Grav_NC              575 non-null    float64\n",
      " 31  PH                   575 non-null    float64\n",
      " 32  SST_bimodality       575 non-null    float64\n",
      " 33  SST_Skewness         575 non-null    float64\n",
      " 34  ClimateStressModel   575 non-null    float64\n",
      " 35  Netflow              575 non-null    float64\n",
      " 36  Indegree             575 non-null    float64\n",
      " 37  Outdegree            575 non-null    float64\n",
      " 38  Retention            575 non-null    float64\n",
      " 39  min_yr               575 non-null    int64  \n",
      " 40  max_yr               575 non-null    int64  \n",
      " 41  no_replicates        575 non-null    int64  \n",
      "dtypes: float64(30), int64(7), object(5)\n",
      "memory usage: 188.8+ KB\n"
     ]
    }
   ],
   "source": [
    "# c\n",
    "#displays each of the column names along with the data type.\n",
    "coral_div.info()"
   ]
  },
  {
   "cell_type": "code",
   "execution_count": 17,
   "metadata": {
    "tags": [],
    "vscode": {
     "languageId": "python"
    }
   },
   "outputs": [
    {
     "data": {
      "text/html": [
       "<div>\n",
       "<style scoped>\n",
       "    .dataframe tbody tr th:only-of-type {\n",
       "        vertical-align: middle;\n",
       "    }\n",
       "\n",
       "    .dataframe tbody tr th {\n",
       "        vertical-align: top;\n",
       "    }\n",
       "\n",
       "    .dataframe thead th {\n",
       "        text-align: right;\n",
       "    }\n",
       "</style>\n",
       "<table border=\"1\" class=\"dataframe\">\n",
       "  <thead>\n",
       "    <tr style=\"text-align: right;\">\n",
       "      <th></th>\n",
       "      <th>PU_ID</th>\n",
       "      <th>PU_Lat</th>\n",
       "      <th>PU_Lon</th>\n",
       "      <th>Number_of_genera</th>\n",
       "      <th>Country</th>\n",
       "      <th>Ecoregion</th>\n",
       "      <th>Management</th>\n",
       "      <th>Habitat</th>\n",
       "      <th>Observer</th>\n",
       "      <th>Depth</th>\n",
       "      <th>...</th>\n",
       "      <th>SST_bimodality</th>\n",
       "      <th>SST_Skewness</th>\n",
       "      <th>ClimateStressModel</th>\n",
       "      <th>Netflow</th>\n",
       "      <th>Indegree</th>\n",
       "      <th>Outdegree</th>\n",
       "      <th>Retention</th>\n",
       "      <th>min_yr</th>\n",
       "      <th>max_yr</th>\n",
       "      <th>no_replicates</th>\n",
       "    </tr>\n",
       "  </thead>\n",
       "  <tbody>\n",
       "    <tr>\n",
       "      <th>0</th>\n",
       "      <td>7</td>\n",
       "      <td>39.076711</td>\n",
       "      <td>-5.490011</td>\n",
       "      <td>35</td>\n",
       "      <td>Tanzania</td>\n",
       "      <td>East African Coral Coast</td>\n",
       "      <td>UnfishedLow</td>\n",
       "      <td>Crest</td>\n",
       "      <td>Tim</td>\n",
       "      <td>11.0</td>\n",
       "      <td>...</td>\n",
       "      <td>0.462556</td>\n",
       "      <td>-0.128136</td>\n",
       "      <td>0.596375</td>\n",
       "      <td>0.144498</td>\n",
       "      <td>98.25</td>\n",
       "      <td>74.75</td>\n",
       "      <td>14.00</td>\n",
       "      <td>2019</td>\n",
       "      <td>2019</td>\n",
       "      <td>1</td>\n",
       "    </tr>\n",
       "    <tr>\n",
       "      <th>1</th>\n",
       "      <td>7</td>\n",
       "      <td>39.076711</td>\n",
       "      <td>-5.490011</td>\n",
       "      <td>22</td>\n",
       "      <td>Tanzania</td>\n",
       "      <td>East African Coral Coast</td>\n",
       "      <td>UnfishedLow</td>\n",
       "      <td>Lagoon/Back reef</td>\n",
       "      <td>Nyawira</td>\n",
       "      <td>2.0</td>\n",
       "      <td>...</td>\n",
       "      <td>0.462556</td>\n",
       "      <td>-0.128136</td>\n",
       "      <td>0.596375</td>\n",
       "      <td>0.144498</td>\n",
       "      <td>98.25</td>\n",
       "      <td>74.75</td>\n",
       "      <td>14.00</td>\n",
       "      <td>2010</td>\n",
       "      <td>2015</td>\n",
       "      <td>2</td>\n",
       "    </tr>\n",
       "    <tr>\n",
       "      <th>2</th>\n",
       "      <td>7</td>\n",
       "      <td>39.076711</td>\n",
       "      <td>-5.490011</td>\n",
       "      <td>25</td>\n",
       "      <td>Tanzania</td>\n",
       "      <td>East African Coral Coast</td>\n",
       "      <td>UnfishedLow</td>\n",
       "      <td>Slope</td>\n",
       "      <td>Nyawira</td>\n",
       "      <td>4.0</td>\n",
       "      <td>...</td>\n",
       "      <td>0.462556</td>\n",
       "      <td>-0.128136</td>\n",
       "      <td>0.596375</td>\n",
       "      <td>0.144498</td>\n",
       "      <td>98.25</td>\n",
       "      <td>74.75</td>\n",
       "      <td>14.00</td>\n",
       "      <td>2015</td>\n",
       "      <td>2015</td>\n",
       "      <td>1</td>\n",
       "    </tr>\n",
       "    <tr>\n",
       "      <th>3</th>\n",
       "      <td>7</td>\n",
       "      <td>39.076711</td>\n",
       "      <td>-5.490011</td>\n",
       "      <td>26</td>\n",
       "      <td>Tanzania</td>\n",
       "      <td>East African Coral Coast</td>\n",
       "      <td>UnfishedLow</td>\n",
       "      <td>Slope</td>\n",
       "      <td>Nyawira</td>\n",
       "      <td>3.0</td>\n",
       "      <td>...</td>\n",
       "      <td>0.462556</td>\n",
       "      <td>-0.128136</td>\n",
       "      <td>0.596375</td>\n",
       "      <td>0.144498</td>\n",
       "      <td>98.25</td>\n",
       "      <td>74.75</td>\n",
       "      <td>14.00</td>\n",
       "      <td>2016</td>\n",
       "      <td>2019</td>\n",
       "      <td>2</td>\n",
       "    </tr>\n",
       "    <tr>\n",
       "      <th>4</th>\n",
       "      <td>10</td>\n",
       "      <td>39.054253</td>\n",
       "      <td>-5.512514</td>\n",
       "      <td>27</td>\n",
       "      <td>Tanzania</td>\n",
       "      <td>East African Coral Coast</td>\n",
       "      <td>UnfishedLow</td>\n",
       "      <td>Lagoon/Back reef</td>\n",
       "      <td>Nyawira</td>\n",
       "      <td>1.5</td>\n",
       "      <td>...</td>\n",
       "      <td>0.461297</td>\n",
       "      <td>-0.134548</td>\n",
       "      <td>0.629000</td>\n",
       "      <td>0.011721</td>\n",
       "      <td>112.75</td>\n",
       "      <td>51.50</td>\n",
       "      <td>183.75</td>\n",
       "      <td>2010</td>\n",
       "      <td>2019</td>\n",
       "      <td>3</td>\n",
       "    </tr>\n",
       "    <tr>\n",
       "      <th>5</th>\n",
       "      <td>10</td>\n",
       "      <td>39.054253</td>\n",
       "      <td>-5.512514</td>\n",
       "      <td>29</td>\n",
       "      <td>Tanzania</td>\n",
       "      <td>East African Coral Coast</td>\n",
       "      <td>UnfishedLow</td>\n",
       "      <td>Lagoon/Back reef</td>\n",
       "      <td>Tim</td>\n",
       "      <td>1.5</td>\n",
       "      <td>...</td>\n",
       "      <td>0.461297</td>\n",
       "      <td>-0.134548</td>\n",
       "      <td>0.629000</td>\n",
       "      <td>0.011721</td>\n",
       "      <td>112.75</td>\n",
       "      <td>51.50</td>\n",
       "      <td>183.75</td>\n",
       "      <td>2015</td>\n",
       "      <td>2015</td>\n",
       "      <td>1</td>\n",
       "    </tr>\n",
       "    <tr>\n",
       "      <th>6</th>\n",
       "      <td>15</td>\n",
       "      <td>39.054253</td>\n",
       "      <td>-5.535017</td>\n",
       "      <td>19</td>\n",
       "      <td>Tanzania</td>\n",
       "      <td>East African Coral Coast</td>\n",
       "      <td>Restricted</td>\n",
       "      <td>Crest</td>\n",
       "      <td>Tim</td>\n",
       "      <td>8.0</td>\n",
       "      <td>...</td>\n",
       "      <td>0.461297</td>\n",
       "      <td>-0.134548</td>\n",
       "      <td>0.595600</td>\n",
       "      <td>0.011721</td>\n",
       "      <td>112.75</td>\n",
       "      <td>51.50</td>\n",
       "      <td>183.75</td>\n",
       "      <td>2019</td>\n",
       "      <td>2019</td>\n",
       "      <td>1</td>\n",
       "    </tr>\n",
       "    <tr>\n",
       "      <th>7</th>\n",
       "      <td>39</td>\n",
       "      <td>39.009337</td>\n",
       "      <td>-5.647518</td>\n",
       "      <td>28</td>\n",
       "      <td>Tanzania</td>\n",
       "      <td>East African Coral Coast</td>\n",
       "      <td>UnfishedLow</td>\n",
       "      <td>Lagoon/Back reef</td>\n",
       "      <td>Nyawira</td>\n",
       "      <td>3.0</td>\n",
       "      <td>...</td>\n",
       "      <td>0.464874</td>\n",
       "      <td>-0.158601</td>\n",
       "      <td>0.626000</td>\n",
       "      <td>-0.063087</td>\n",
       "      <td>96.50</td>\n",
       "      <td>40.75</td>\n",
       "      <td>35.75</td>\n",
       "      <td>2015</td>\n",
       "      <td>2019</td>\n",
       "      <td>3</td>\n",
       "    </tr>\n",
       "  </tbody>\n",
       "</table>\n",
       "<p>8 rows × 42 columns</p>\n",
       "</div>"
      ],
      "text/plain": [
       "   PU_ID     PU_Lat    PU_Lon  Number_of_genera   Country  \\\n",
       "0      7  39.076711 -5.490011                35  Tanzania   \n",
       "1      7  39.076711 -5.490011                22  Tanzania   \n",
       "2      7  39.076711 -5.490011                25  Tanzania   \n",
       "3      7  39.076711 -5.490011                26  Tanzania   \n",
       "4     10  39.054253 -5.512514                27  Tanzania   \n",
       "5     10  39.054253 -5.512514                29  Tanzania   \n",
       "6     15  39.054253 -5.535017                19  Tanzania   \n",
       "7     39  39.009337 -5.647518                28  Tanzania   \n",
       "\n",
       "                  Ecoregion   Management           Habitat Observer  Depth  \\\n",
       "0  East African Coral Coast  UnfishedLow             Crest      Tim   11.0   \n",
       "1  East African Coral Coast  UnfishedLow  Lagoon/Back reef  Nyawira    2.0   \n",
       "2  East African Coral Coast  UnfishedLow             Slope  Nyawira    4.0   \n",
       "3  East African Coral Coast  UnfishedLow             Slope  Nyawira    3.0   \n",
       "4  East African Coral Coast  UnfishedLow  Lagoon/Back reef  Nyawira    1.5   \n",
       "5  East African Coral Coast  UnfishedLow  Lagoon/Back reef      Tim    1.5   \n",
       "6  East African Coral Coast   Restricted             Crest      Tim    8.0   \n",
       "7  East African Coral Coast  UnfishedLow  Lagoon/Back reef  Nyawira    3.0   \n",
       "\n",
       "   ...  SST_bimodality  SST_Skewness  ClimateStressModel   Netflow  Indegree  \\\n",
       "0  ...        0.462556     -0.128136            0.596375  0.144498     98.25   \n",
       "1  ...        0.462556     -0.128136            0.596375  0.144498     98.25   \n",
       "2  ...        0.462556     -0.128136            0.596375  0.144498     98.25   \n",
       "3  ...        0.462556     -0.128136            0.596375  0.144498     98.25   \n",
       "4  ...        0.461297     -0.134548            0.629000  0.011721    112.75   \n",
       "5  ...        0.461297     -0.134548            0.629000  0.011721    112.75   \n",
       "6  ...        0.461297     -0.134548            0.595600  0.011721    112.75   \n",
       "7  ...        0.464874     -0.158601            0.626000 -0.063087     96.50   \n",
       "\n",
       "   Outdegree  Retention  min_yr  max_yr  no_replicates  \n",
       "0      74.75      14.00    2019    2019              1  \n",
       "1      74.75      14.00    2010    2015              2  \n",
       "2      74.75      14.00    2015    2015              1  \n",
       "3      74.75      14.00    2016    2019              2  \n",
       "4      51.50     183.75    2010    2019              3  \n",
       "5      51.50     183.75    2015    2015              1  \n",
       "6      51.50     183.75    2019    2019              1  \n",
       "7      40.75      35.75    2015    2019              3  \n",
       "\n",
       "[8 rows x 42 columns]"
      ]
     },
     "execution_count": 17,
     "metadata": {},
     "output_type": "execute_result"
    }
   ],
   "source": [
    "# d\n",
    "#displays all the columns of the first few rows with \"8\" being the number of rows it displays.\n",
    "coral_div.head(8)"
   ]
  },
  {
   "cell_type": "code",
   "execution_count": 29,
   "metadata": {
    "tags": [],
    "vscode": {
     "languageId": "python"
    }
   },
   "outputs": [
    {
     "name": "stdout",
     "output_type": "stream",
     "text": [
      "16\n",
      "8.272000313\n",
      "8.194000244\n"
     ]
    }
   ],
   "source": [
    "# e\n",
    "#displays how many total observers there were in this dataframe\n",
    "print(coral_div['Observer'].nunique())\n",
    "\n",
    "#displays the min and max values of the PH levels.\n",
    "print(coral_div['PH'].max())\n",
    "print(coral_div['PH'].min())"
   ]
  },
  {
   "cell_type": "markdown",
   "metadata": {},
   "source": [
    "## 4\n",
    "\n",
    "Some of the columns have data type `int64` and some have data type `float64`. What is the difference between these `int64` and `float64`?\n"
   ]
  },
  {
   "cell_type": "markdown",
   "metadata": {},
   "source": [
    "`int64` represents and integer while `float64` represents a floating-point. Integers are used to represent whole numbers without decimal points. They're good for discrete, countable values. Floating-points represent real numbers whether they be integers or fractions. They're good for continuous data."
   ]
  },
  {
   "cell_type": "markdown",
   "metadata": {},
   "source": [
    "## 5\n",
    "\n",
    "The `Country` column indicates the country of reef location. Explain in your words what is the ouput of `coral_div.Country` and `coral_div.Country.unique()`. "
   ]
  },
  {
   "cell_type": "markdown",
   "metadata": {},
   "source": [
    "`coral_div.Country` displays the Country column and all of it's values no matter if they repeat. \n",
    "`coral_div.Country.unique()` displays every unique value in the Country column and the column data type."
   ]
  },
  {
   "cell_type": "markdown",
   "metadata": {},
   "source": [
    "## 6\n",
    "\n",
    "Check the dataset's [metadata file README_md.doc](https://knb.ecoinformatics.org/view/doi:10.5063/F1K35S3H) to find which column has information about who made an observation. How many observers collected this data? HINT: use the `len` Python function. Not sure what `len` does? Use `?`."
   ]
  },
  {
   "cell_type": "code",
   "execution_count": 44,
   "metadata": {
    "tags": [],
    "vscode": {
     "languageId": "python"
    }
   },
   "outputs": [
    {
     "data": {
      "text/plain": [
       "16"
      ]
     },
     "execution_count": 44,
     "metadata": {},
     "output_type": "execute_result"
    }
   ],
   "source": [
    "#?len\n",
    "\n",
    "#according to the README file, the column `Observer` contains information about who made an observation.\n",
    "\n",
    "#displays the number of unique observers\n",
    "coral_div['Observer'].nunique()\n",
    "\n",
    "#or \n",
    "\n",
    "#first finds each unique observer in the 'Observer' column and then `len` counts how many values.\n",
    "len(coral_div['Observer'].unique())"
   ]
  },
  {
   "cell_type": "markdown",
   "metadata": {},
   "source": [
    "## 7\n",
    "\n",
    "The `Coralcover` column indicates the percent of hard coral cover in each 6km reef cell surveyed. What data is `coral_div[coral_div['Coralcover'] >= 50]` selecting?"
   ]
  },
  {
   "cell_type": "markdown",
   "metadata": {
    "tags": []
   },
   "source": [
    "`coral_div[coral_div['Coralcover'] >= 50]` selects all the rows where the coral cover is greater than or equal to 50 percent."
   ]
  },
  {
   "cell_type": "markdown",
   "metadata": {},
   "source": [
    "## 8\n",
    "\n",
    "Use code to find if there are there any sites with a 30% coral cover in Tanzania."
   ]
  },
  {
   "cell_type": "code",
   "execution_count": 57,
   "metadata": {
    "tags": [],
    "vscode": {
     "languageId": "python"
    }
   },
   "outputs": [
    {
     "data": {
      "text/html": [
       "<div>\n",
       "<style scoped>\n",
       "    .dataframe tbody tr th:only-of-type {\n",
       "        vertical-align: middle;\n",
       "    }\n",
       "\n",
       "    .dataframe tbody tr th {\n",
       "        vertical-align: top;\n",
       "    }\n",
       "\n",
       "    .dataframe thead th {\n",
       "        text-align: right;\n",
       "    }\n",
       "</style>\n",
       "<table border=\"1\" class=\"dataframe\">\n",
       "  <thead>\n",
       "    <tr style=\"text-align: right;\">\n",
       "      <th></th>\n",
       "      <th>PU_ID</th>\n",
       "      <th>PU_Lat</th>\n",
       "      <th>PU_Lon</th>\n",
       "      <th>Number_of_genera</th>\n",
       "      <th>Country</th>\n",
       "      <th>Ecoregion</th>\n",
       "      <th>Management</th>\n",
       "      <th>Habitat</th>\n",
       "      <th>Observer</th>\n",
       "      <th>Depth</th>\n",
       "      <th>...</th>\n",
       "      <th>SST_bimodality</th>\n",
       "      <th>SST_Skewness</th>\n",
       "      <th>ClimateStressModel</th>\n",
       "      <th>Netflow</th>\n",
       "      <th>Indegree</th>\n",
       "      <th>Outdegree</th>\n",
       "      <th>Retention</th>\n",
       "      <th>min_yr</th>\n",
       "      <th>max_yr</th>\n",
       "      <th>no_replicates</th>\n",
       "    </tr>\n",
       "  </thead>\n",
       "  <tbody>\n",
       "    <tr>\n",
       "      <th>63</th>\n",
       "      <td>693</td>\n",
       "      <td>39.391121</td>\n",
       "      <td>-5.782490</td>\n",
       "      <td>10</td>\n",
       "      <td>Tanzania</td>\n",
       "      <td>East African Coral Coast</td>\n",
       "      <td>Fished</td>\n",
       "      <td>Lagoon/Back reef</td>\n",
       "      <td>Nyawira</td>\n",
       "      <td>5.000000</td>\n",
       "      <td>...</td>\n",
       "      <td>0.490512</td>\n",
       "      <td>-0.101724</td>\n",
       "      <td>0.655600</td>\n",
       "      <td>-0.309514</td>\n",
       "      <td>77.00</td>\n",
       "      <td>65.25</td>\n",
       "      <td>147.50</td>\n",
       "      <td>2018</td>\n",
       "      <td>2018</td>\n",
       "      <td>2</td>\n",
       "    </tr>\n",
       "    <tr>\n",
       "      <th>64</th>\n",
       "      <td>697</td>\n",
       "      <td>39.391121</td>\n",
       "      <td>-5.804983</td>\n",
       "      <td>22</td>\n",
       "      <td>Tanzania</td>\n",
       "      <td>East African Coral Coast</td>\n",
       "      <td>Fished</td>\n",
       "      <td>Lagoon/Back reef</td>\n",
       "      <td>Nyawira</td>\n",
       "      <td>9.166667</td>\n",
       "      <td>...</td>\n",
       "      <td>0.490769</td>\n",
       "      <td>-0.100365</td>\n",
       "      <td>0.683050</td>\n",
       "      <td>-0.309514</td>\n",
       "      <td>77.00</td>\n",
       "      <td>65.25</td>\n",
       "      <td>147.50</td>\n",
       "      <td>2010</td>\n",
       "      <td>2018</td>\n",
       "      <td>3</td>\n",
       "    </tr>\n",
       "    <tr>\n",
       "      <th>341</th>\n",
       "      <td>4294</td>\n",
       "      <td>39.211458</td>\n",
       "      <td>-4.814515</td>\n",
       "      <td>37</td>\n",
       "      <td>Tanzania</td>\n",
       "      <td>East African Coral Coast</td>\n",
       "      <td>Fished</td>\n",
       "      <td>Slope</td>\n",
       "      <td>Nyawira</td>\n",
       "      <td>11.000000</td>\n",
       "      <td>...</td>\n",
       "      <td>0.451293</td>\n",
       "      <td>-0.048992</td>\n",
       "      <td>0.608900</td>\n",
       "      <td>0.514920</td>\n",
       "      <td>46.00</td>\n",
       "      <td>49.50</td>\n",
       "      <td>82.75</td>\n",
       "      <td>2018</td>\n",
       "      <td>2018</td>\n",
       "      <td>1</td>\n",
       "    </tr>\n",
       "    <tr>\n",
       "      <th>342</th>\n",
       "      <td>4299</td>\n",
       "      <td>39.233916</td>\n",
       "      <td>-4.837043</td>\n",
       "      <td>26</td>\n",
       "      <td>Tanzania</td>\n",
       "      <td>East African Coral Coast</td>\n",
       "      <td>Fished</td>\n",
       "      <td>Slope</td>\n",
       "      <td>Nyawira</td>\n",
       "      <td>12.500000</td>\n",
       "      <td>...</td>\n",
       "      <td>0.451293</td>\n",
       "      <td>-0.048992</td>\n",
       "      <td>0.601725</td>\n",
       "      <td>0.514920</td>\n",
       "      <td>46.00</td>\n",
       "      <td>49.50</td>\n",
       "      <td>82.75</td>\n",
       "      <td>2018</td>\n",
       "      <td>2018</td>\n",
       "      <td>2</td>\n",
       "    </tr>\n",
       "    <tr>\n",
       "      <th>343</th>\n",
       "      <td>4302</td>\n",
       "      <td>39.211458</td>\n",
       "      <td>-4.859570</td>\n",
       "      <td>31</td>\n",
       "      <td>Tanzania</td>\n",
       "      <td>East African Coral Coast</td>\n",
       "      <td>Fished</td>\n",
       "      <td>Slope</td>\n",
       "      <td>Nyawira</td>\n",
       "      <td>7.000000</td>\n",
       "      <td>...</td>\n",
       "      <td>0.452402</td>\n",
       "      <td>-0.050477</td>\n",
       "      <td>0.595200</td>\n",
       "      <td>0.514920</td>\n",
       "      <td>46.00</td>\n",
       "      <td>49.50</td>\n",
       "      <td>82.75</td>\n",
       "      <td>2018</td>\n",
       "      <td>2018</td>\n",
       "      <td>1</td>\n",
       "    </tr>\n",
       "    <tr>\n",
       "      <th>344</th>\n",
       "      <td>4303</td>\n",
       "      <td>39.301290</td>\n",
       "      <td>-4.859570</td>\n",
       "      <td>23</td>\n",
       "      <td>Tanzania</td>\n",
       "      <td>East African Coral Coast</td>\n",
       "      <td>Fished</td>\n",
       "      <td>Slope</td>\n",
       "      <td>Nyawira</td>\n",
       "      <td>11.000000</td>\n",
       "      <td>...</td>\n",
       "      <td>0.453806</td>\n",
       "      <td>-0.048007</td>\n",
       "      <td>0.602300</td>\n",
       "      <td>0.514920</td>\n",
       "      <td>46.00</td>\n",
       "      <td>49.50</td>\n",
       "      <td>82.75</td>\n",
       "      <td>2018</td>\n",
       "      <td>2018</td>\n",
       "      <td>1</td>\n",
       "    </tr>\n",
       "    <tr>\n",
       "      <th>377</th>\n",
       "      <td>4906</td>\n",
       "      <td>39.660616</td>\n",
       "      <td>-4.972195</td>\n",
       "      <td>33</td>\n",
       "      <td>Tanzania</td>\n",
       "      <td>East African Coral Coast</td>\n",
       "      <td>Fished</td>\n",
       "      <td>Lagoon/Back reef</td>\n",
       "      <td>Nyawira</td>\n",
       "      <td>9.000000</td>\n",
       "      <td>...</td>\n",
       "      <td>0.488396</td>\n",
       "      <td>-0.074229</td>\n",
       "      <td>0.671900</td>\n",
       "      <td>0.156359</td>\n",
       "      <td>66.75</td>\n",
       "      <td>41.75</td>\n",
       "      <td>38.00</td>\n",
       "      <td>2013</td>\n",
       "      <td>2013</td>\n",
       "      <td>2</td>\n",
       "    </tr>\n",
       "    <tr>\n",
       "      <th>388</th>\n",
       "      <td>5049</td>\n",
       "      <td>39.615700</td>\n",
       "      <td>-5.490011</td>\n",
       "      <td>14</td>\n",
       "      <td>Tanzania</td>\n",
       "      <td>East African Coral Coast</td>\n",
       "      <td>Fished</td>\n",
       "      <td>Lagoon/Back reef</td>\n",
       "      <td>Nyawira</td>\n",
       "      <td>4.000000</td>\n",
       "      <td>...</td>\n",
       "      <td>0.489921</td>\n",
       "      <td>-0.109523</td>\n",
       "      <td>0.657000</td>\n",
       "      <td>-0.328399</td>\n",
       "      <td>93.25</td>\n",
       "      <td>57.25</td>\n",
       "      <td>650.25</td>\n",
       "      <td>2018</td>\n",
       "      <td>2018</td>\n",
       "      <td>1</td>\n",
       "    </tr>\n",
       "    <tr>\n",
       "      <th>389</th>\n",
       "      <td>5050</td>\n",
       "      <td>39.638158</td>\n",
       "      <td>-5.490011</td>\n",
       "      <td>18</td>\n",
       "      <td>Tanzania</td>\n",
       "      <td>East African Coral Coast</td>\n",
       "      <td>Fished</td>\n",
       "      <td>Lagoon/Back reef</td>\n",
       "      <td>Nyawira</td>\n",
       "      <td>6.000000</td>\n",
       "      <td>...</td>\n",
       "      <td>0.489921</td>\n",
       "      <td>-0.109523</td>\n",
       "      <td>0.618825</td>\n",
       "      <td>-0.328399</td>\n",
       "      <td>93.25</td>\n",
       "      <td>57.25</td>\n",
       "      <td>650.25</td>\n",
       "      <td>2018</td>\n",
       "      <td>2018</td>\n",
       "      <td>1</td>\n",
       "    </tr>\n",
       "  </tbody>\n",
       "</table>\n",
       "<p>9 rows × 42 columns</p>\n",
       "</div>"
      ],
      "text/plain": [
       "     PU_ID     PU_Lat    PU_Lon  Number_of_genera   Country  \\\n",
       "63     693  39.391121 -5.782490                10  Tanzania   \n",
       "64     697  39.391121 -5.804983                22  Tanzania   \n",
       "341   4294  39.211458 -4.814515                37  Tanzania   \n",
       "342   4299  39.233916 -4.837043                26  Tanzania   \n",
       "343   4302  39.211458 -4.859570                31  Tanzania   \n",
       "344   4303  39.301290 -4.859570                23  Tanzania   \n",
       "377   4906  39.660616 -4.972195                33  Tanzania   \n",
       "388   5049  39.615700 -5.490011                14  Tanzania   \n",
       "389   5050  39.638158 -5.490011                18  Tanzania   \n",
       "\n",
       "                    Ecoregion Management           Habitat Observer  \\\n",
       "63   East African Coral Coast     Fished  Lagoon/Back reef  Nyawira   \n",
       "64   East African Coral Coast     Fished  Lagoon/Back reef  Nyawira   \n",
       "341  East African Coral Coast     Fished             Slope  Nyawira   \n",
       "342  East African Coral Coast     Fished             Slope  Nyawira   \n",
       "343  East African Coral Coast     Fished             Slope  Nyawira   \n",
       "344  East African Coral Coast     Fished             Slope  Nyawira   \n",
       "377  East African Coral Coast     Fished  Lagoon/Back reef  Nyawira   \n",
       "388  East African Coral Coast     Fished  Lagoon/Back reef  Nyawira   \n",
       "389  East African Coral Coast     Fished  Lagoon/Back reef  Nyawira   \n",
       "\n",
       "         Depth  ...  SST_bimodality  SST_Skewness  ClimateStressModel  \\\n",
       "63    5.000000  ...        0.490512     -0.101724            0.655600   \n",
       "64    9.166667  ...        0.490769     -0.100365            0.683050   \n",
       "341  11.000000  ...        0.451293     -0.048992            0.608900   \n",
       "342  12.500000  ...        0.451293     -0.048992            0.601725   \n",
       "343   7.000000  ...        0.452402     -0.050477            0.595200   \n",
       "344  11.000000  ...        0.453806     -0.048007            0.602300   \n",
       "377   9.000000  ...        0.488396     -0.074229            0.671900   \n",
       "388   4.000000  ...        0.489921     -0.109523            0.657000   \n",
       "389   6.000000  ...        0.489921     -0.109523            0.618825   \n",
       "\n",
       "      Netflow  Indegree  Outdegree  Retention  min_yr  max_yr  no_replicates  \n",
       "63  -0.309514     77.00      65.25     147.50    2018    2018              2  \n",
       "64  -0.309514     77.00      65.25     147.50    2010    2018              3  \n",
       "341  0.514920     46.00      49.50      82.75    2018    2018              1  \n",
       "342  0.514920     46.00      49.50      82.75    2018    2018              2  \n",
       "343  0.514920     46.00      49.50      82.75    2018    2018              1  \n",
       "344  0.514920     46.00      49.50      82.75    2018    2018              1  \n",
       "377  0.156359     66.75      41.75      38.00    2013    2013              2  \n",
       "388 -0.328399     93.25      57.25     650.25    2018    2018              1  \n",
       "389 -0.328399     93.25      57.25     650.25    2018    2018              1  \n",
       "\n",
       "[9 rows x 42 columns]"
      ]
     },
     "execution_count": 57,
     "metadata": {},
     "output_type": "execute_result"
    }
   ],
   "source": [
    "#displays all the columns where the coral cover in Tanzania is equal to 30 percent\n",
    "coral_div[(coral_div.Coralcover == 30) & (coral_div.Country == 'Tanzania')]"
   ]
  },
  {
   "cell_type": "markdown",
   "metadata": {},
   "source": [
    "## 9\n",
    "\n",
    "We are interested in looking at the PH of sea water (`PH` column),  mean salinity (PSS) (`Salinity_mean` column), and depth of survey location in meters (`Depth` column). Select this data. "
   ]
  },
  {
   "cell_type": "code",
   "execution_count": 9,
   "metadata": {
    "vscode": {
     "languageId": "python"
    }
   },
   "outputs": [],
   "source": [
    "# solve exercise here"
   ]
  },
  {
   "cell_type": "markdown",
   "metadata": {},
   "source": [
    "## 10\n",
    "The `max_yr` column indicates the year of last sampling at a given site. Select the PH, salinity, and depth for sites where sampling ended in 2017. \n"
   ]
  },
  {
   "cell_type": "code",
   "execution_count": 10,
   "metadata": {
    "vscode": {
     "languageId": "python"
    }
   },
   "outputs": [],
   "source": [
    "# solve exercise here"
   ]
  },
  {
   "cell_type": "markdown",
   "metadata": {},
   "source": [
    "## 11\n",
    "Use `iloc` to select rows 95 throuhg 100 (including 100) in the 17th, 20th, and 28th columns and assign these values to a new variable called `subset`. HINT: the ouput columns should be `Salinity_mean`, `mean.npp` and `Current_vel_mean`. Are you indexing from 0?"
   ]
  },
  {
   "cell_type": "code",
   "execution_count": 11,
   "metadata": {
    "vscode": {
     "languageId": "python"
    }
   },
   "outputs": [],
   "source": [
    "# solve exercise here"
   ]
  },
  {
   "cell_type": "markdown",
   "metadata": {},
   "source": [
    "## 12 \n",
    "\n",
    "Run `subset.isna()`. Explain what this code does and what the output represents."
   ]
  },
  {
   "cell_type": "markdown",
   "metadata": {},
   "source": [
    "*Update this markdown cell with your answer.*"
   ]
  },
  {
   "cell_type": "markdown",
   "metadata": {},
   "source": [
    "## 13\n",
    "Run `subset.isna().any()`. Explain what this code does and what the output represents. HINT: It could be helpful to check the [documentation of `pandas.Sries.any`](https://pandas.pydata.org/docs/reference/api/pandas.Series.any.html).\n"
   ]
  },
  {
   "cell_type": "markdown",
   "metadata": {},
   "source": [
    "*Update this markdown cell with your answer.*"
   ]
  },
  {
   "cell_type": "markdown",
   "metadata": {},
   "source": [
    "## 14 \n",
    "\n",
    "Select the rows in `subset` that have NA in the `Current_vel_mean` column. HINT: you can use your answer for 9."
   ]
  },
  {
   "cell_type": "code",
   "execution_count": 12,
   "metadata": {
    "vscode": {
     "languageId": "python"
    }
   },
   "outputs": [],
   "source": [
    "# solve exercise here"
   ]
  }
 ],
 "metadata": {
  "kernelspec": {
   "display_name": "Anaconda 3 (Base)",
   "language": "python",
   "name": "base"
  },
  "language_info": {
   "codemirror_mode": {
    "name": "ipython",
    "version": 3
   },
   "file_extension": ".py",
   "mimetype": "text/x-python",
   "name": "python",
   "nbconvert_exporter": "python",
   "pygments_lexer": "ipython3",
   "version": "3.9.13"
  }
 },
 "nbformat": 4,
 "nbformat_minor": 4
}
