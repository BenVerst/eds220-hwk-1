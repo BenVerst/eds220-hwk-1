{
 "cells": [
  {
   "cell_type": "markdown",
   "metadata": {},
   "source": [
    "# Task 4\n",
    "\n",
    "First, update the following cell to have a link to your Homework 1 GitHub repository:\n",
    "\n",
    "UPDATE THIS LINK:\n",
    "\n",
    "https://github.com/BenVerst/eds220-hwk-1\n",
    "\n",
    "In this task, make at least 5 commits at moments you think are adequate. We'll look at your repo to check commit history. Err on the side of commenting too much for now to get in the habit.\n",
    "\n",
    "Add comments for all your code. Err on the side of commenting too much for now.\n",
    "\n",
    "Comments in each exercise and commits will count towards your grade.\n",
    "\n",
    "This task covers topics we will see on Wednesday Oct. 11. You might want to wait until after that class to solve it.\n",
    "\n",
    "## Acknowledgement\n",
    "This task was adapted from the *Pandas Fundamentals with Earthquake Data* assignment from the e-book [Earth and Environmental Data Science](https://earth-env-data-science.github.io/intro.html)"
   ]
  },
  {
   "cell_type": "markdown",
   "metadata": {},
   "source": [
    "## About the data\n",
    "\n",
    "For this task we are going to use simplified data from the [USGS Earthquakes Database](https://earthquake.usgs.gov/earthquakes/search/). This dataset is in tabular format and has the following columns:\n",
    "\n",
    "- time = date and time of event (all events from 2014)\n",
    "- latitude = decimal degrees [-90,90]\n",
    "- longitude = decimal degrees [-360,360]\n",
    "- depth = depth of the event (km)\n",
    "- mag =  magnitude of event\n",
    "- id = event identifier\n",
    "- place = where the event took place\n",
    "- type = type of event\n",
    "\n",
    "## 1 \n",
    "\n",
    "a. Import pandas (always with standard abbreviation!).\n",
    "\n",
    "b. Use `pd.read_csv()` to import the `earthquake_data.csv` dataset and store it as `raw_eqk` (variable name).\n",
    "\n",
    "c. Look at the head of the dataframe."
   ]
  },
  {
   "cell_type": "code",
   "execution_count": 3,
   "metadata": {
    "vscode": {
     "languageId": "python"
    }
   },
   "outputs": [
    {
     "data": {
      "text/html": [
       "<div>\n",
       "<style scoped>\n",
       "    .dataframe tbody tr th:only-of-type {\n",
       "        vertical-align: middle;\n",
       "    }\n",
       "\n",
       "    .dataframe tbody tr th {\n",
       "        vertical-align: top;\n",
       "    }\n",
       "\n",
       "    .dataframe thead th {\n",
       "        text-align: right;\n",
       "    }\n",
       "</style>\n",
       "<table border=\"1\" class=\"dataframe\">\n",
       "  <thead>\n",
       "    <tr style=\"text-align: right;\">\n",
       "      <th></th>\n",
       "      <th>time</th>\n",
       "      <th>latitude</th>\n",
       "      <th>longitude</th>\n",
       "      <th>depth</th>\n",
       "      <th>mag</th>\n",
       "      <th>magType</th>\n",
       "      <th>nst</th>\n",
       "      <th>gap</th>\n",
       "      <th>dmin</th>\n",
       "      <th>rms</th>\n",
       "      <th>...</th>\n",
       "      <th>updated</th>\n",
       "      <th>place</th>\n",
       "      <th>type</th>\n",
       "      <th>horizontalError</th>\n",
       "      <th>depthError</th>\n",
       "      <th>magError</th>\n",
       "      <th>magNst</th>\n",
       "      <th>status</th>\n",
       "      <th>locationSource</th>\n",
       "      <th>magSource</th>\n",
       "    </tr>\n",
       "  </thead>\n",
       "  <tbody>\n",
       "    <tr>\n",
       "      <th>0</th>\n",
       "      <td>2023-10-14T17:15:20.039Z</td>\n",
       "      <td>35.636167</td>\n",
       "      <td>-96.909667</td>\n",
       "      <td>16.060</td>\n",
       "      <td>2.91</td>\n",
       "      <td>ml</td>\n",
       "      <td>99.0</td>\n",
       "      <td>56.0</td>\n",
       "      <td>0.00000</td>\n",
       "      <td>0.12</td>\n",
       "      <td>...</td>\n",
       "      <td>2023-10-14T18:49:05.040Z</td>\n",
       "      <td>7 km SSW of Chandler, Oklahoma</td>\n",
       "      <td>earthquake</td>\n",
       "      <td>NaN</td>\n",
       "      <td>0.400</td>\n",
       "      <td>0.210000</td>\n",
       "      <td>43.0</td>\n",
       "      <td>reviewed</td>\n",
       "      <td>ok</td>\n",
       "      <td>ok</td>\n",
       "    </tr>\n",
       "    <tr>\n",
       "      <th>1</th>\n",
       "      <td>2023-10-14T16:58:29.114Z</td>\n",
       "      <td>63.222000</td>\n",
       "      <td>-150.623200</td>\n",
       "      <td>128.000</td>\n",
       "      <td>2.50</td>\n",
       "      <td>ml</td>\n",
       "      <td>NaN</td>\n",
       "      <td>NaN</td>\n",
       "      <td>NaN</td>\n",
       "      <td>0.47</td>\n",
       "      <td>...</td>\n",
       "      <td>2023-10-14T17:00:21.387Z</td>\n",
       "      <td>65 km ESE of Denali National Park, Alaska</td>\n",
       "      <td>earthquake</td>\n",
       "      <td>NaN</td>\n",
       "      <td>0.600</td>\n",
       "      <td>NaN</td>\n",
       "      <td>NaN</td>\n",
       "      <td>automatic</td>\n",
       "      <td>ak</td>\n",
       "      <td>ak</td>\n",
       "    </tr>\n",
       "    <tr>\n",
       "      <th>2</th>\n",
       "      <td>2023-10-14T16:25:12.056Z</td>\n",
       "      <td>41.113200</td>\n",
       "      <td>134.288000</td>\n",
       "      <td>427.025</td>\n",
       "      <td>4.30</td>\n",
       "      <td>mb</td>\n",
       "      <td>59.0</td>\n",
       "      <td>53.0</td>\n",
       "      <td>3.52000</td>\n",
       "      <td>0.70</td>\n",
       "      <td>...</td>\n",
       "      <td>2023-10-14T16:56:07.040Z</td>\n",
       "      <td>NaN</td>\n",
       "      <td>earthquake</td>\n",
       "      <td>11.18</td>\n",
       "      <td>7.512</td>\n",
       "      <td>0.048000</td>\n",
       "      <td>122.0</td>\n",
       "      <td>reviewed</td>\n",
       "      <td>us</td>\n",
       "      <td>us</td>\n",
       "    </tr>\n",
       "    <tr>\n",
       "      <th>3</th>\n",
       "      <td>2023-10-14T15:00:41.740Z</td>\n",
       "      <td>18.881500</td>\n",
       "      <td>-67.388000</td>\n",
       "      <td>7.870</td>\n",
       "      <td>3.20</td>\n",
       "      <td>md</td>\n",
       "      <td>9.0</td>\n",
       "      <td>287.0</td>\n",
       "      <td>0.50190</td>\n",
       "      <td>0.17</td>\n",
       "      <td>...</td>\n",
       "      <td>2023-10-14T15:38:03.130Z</td>\n",
       "      <td>Mona Passage</td>\n",
       "      <td>earthquake</td>\n",
       "      <td>1.82</td>\n",
       "      <td>1.910</td>\n",
       "      <td>0.010908</td>\n",
       "      <td>7.0</td>\n",
       "      <td>reviewed</td>\n",
       "      <td>pr</td>\n",
       "      <td>pr</td>\n",
       "    </tr>\n",
       "    <tr>\n",
       "      <th>4</th>\n",
       "      <td>2023-10-14T14:36:49.820Z</td>\n",
       "      <td>17.940167</td>\n",
       "      <td>-66.955833</td>\n",
       "      <td>6.660</td>\n",
       "      <td>2.64</td>\n",
       "      <td>md</td>\n",
       "      <td>13.0</td>\n",
       "      <td>218.0</td>\n",
       "      <td>0.05507</td>\n",
       "      <td>0.12</td>\n",
       "      <td>...</td>\n",
       "      <td>2023-10-14T14:48:13.900Z</td>\n",
       "      <td>6 km SW of Guánica, Puerto Rico</td>\n",
       "      <td>earthquake</td>\n",
       "      <td>0.50</td>\n",
       "      <td>0.240</td>\n",
       "      <td>0.081501</td>\n",
       "      <td>4.0</td>\n",
       "      <td>reviewed</td>\n",
       "      <td>pr</td>\n",
       "      <td>pr</td>\n",
       "    </tr>\n",
       "  </tbody>\n",
       "</table>\n",
       "<p>5 rows × 22 columns</p>\n",
       "</div>"
      ],
      "text/plain": [
       "                       time   latitude   longitude    depth   mag magType  \\\n",
       "0  2023-10-14T17:15:20.039Z  35.636167  -96.909667   16.060  2.91      ml   \n",
       "1  2023-10-14T16:58:29.114Z  63.222000 -150.623200  128.000  2.50      ml   \n",
       "2  2023-10-14T16:25:12.056Z  41.113200  134.288000  427.025  4.30      mb   \n",
       "3  2023-10-14T15:00:41.740Z  18.881500  -67.388000    7.870  3.20      md   \n",
       "4  2023-10-14T14:36:49.820Z  17.940167  -66.955833    6.660  2.64      md   \n",
       "\n",
       "    nst    gap     dmin   rms  ...                   updated  \\\n",
       "0  99.0   56.0  0.00000  0.12  ...  2023-10-14T18:49:05.040Z   \n",
       "1   NaN    NaN      NaN  0.47  ...  2023-10-14T17:00:21.387Z   \n",
       "2  59.0   53.0  3.52000  0.70  ...  2023-10-14T16:56:07.040Z   \n",
       "3   9.0  287.0  0.50190  0.17  ...  2023-10-14T15:38:03.130Z   \n",
       "4  13.0  218.0  0.05507  0.12  ...  2023-10-14T14:48:13.900Z   \n",
       "\n",
       "                                       place        type horizontalError  \\\n",
       "0             7 km SSW of Chandler, Oklahoma  earthquake             NaN   \n",
       "1  65 km ESE of Denali National Park, Alaska  earthquake             NaN   \n",
       "2                                        NaN  earthquake           11.18   \n",
       "3                               Mona Passage  earthquake            1.82   \n",
       "4            6 km SW of Guánica, Puerto Rico  earthquake            0.50   \n",
       "\n",
       "  depthError  magError  magNst     status  locationSource magSource  \n",
       "0      0.400  0.210000    43.0   reviewed              ok        ok  \n",
       "1      0.600       NaN     NaN  automatic              ak        ak  \n",
       "2      7.512  0.048000   122.0   reviewed              us        us  \n",
       "3      1.910  0.010908     7.0   reviewed              pr        pr  \n",
       "4      0.240  0.081501     4.0   reviewed              pr        pr  \n",
       "\n",
       "[5 rows x 22 columns]"
      ]
     },
     "execution_count": 3,
     "metadata": {},
     "output_type": "execute_result"
    }
   ],
   "source": [
    "#imports pandas as an abbreviation\n",
    "import pandas as pd\n",
    "\n",
    "#Reads in the csv file and stores it as raw_eqk\n",
    "raw_eqk = pd.read_csv('query.csv')\n",
    "\n",
    "#views the first 5 rows of all the columns.\n",
    "raw_eqk.head()"
   ]
  },
  {
   "cell_type": "markdown",
   "metadata": {},
   "source": [
    "## 2\n",
    "a. Print the shape of the `raw_eqk` dataframe.\n",
    "\n",
    "b. Print the type of `raw_eqk`'s shape.\n",
    "\n",
    "c. Print *only* the number of rows by accessing it from `raw_eqk`'s shape. HINT: how do you index an element in a tuple?"
   ]
  },
  {
   "cell_type": "code",
   "execution_count": 17,
   "metadata": {
    "vscode": {
     "languageId": "python"
    }
   },
   "outputs": [
    {
     "name": "stdout",
     "output_type": "stream",
     "text": [
      "(349, 22)\n",
      "<class 'tuple'>\n",
      "349\n"
     ]
    }
   ],
   "source": [
    "#prints the shape (number of rows and columns) of the data frame.\n",
    "print(raw_eqk.shape)\n",
    "\n",
    "#prints the data frame's shape type\n",
    "print(type(raw_eqk.shape))\n",
    "\n",
    "#prints the number of rows in the data frame by accessing it from it's shape\n",
    "print(raw_eqk.shape[0])"
   ]
  },
  {
   "cell_type": "markdown",
   "metadata": {},
   "source": [
    "## 3\n",
    "\n",
    "Get the unique values of the type of events."
   ]
  },
  {
   "cell_type": "code",
   "execution_count": 18,
   "metadata": {
    "vscode": {
     "languageId": "python"
    }
   },
   "outputs": [
    {
     "data": {
      "text/plain": [
       "array(['earthquake', 'ice quake'], dtype=object)"
      ]
     },
     "execution_count": 18,
     "metadata": {},
     "output_type": "execute_result"
    }
   ],
   "source": [
    "# shows the unique values in the events column\n",
    "raw_eqk['type'].unique()"
   ]
  },
  {
   "cell_type": "markdown",
   "metadata": {},
   "source": [
    "# 4\n",
    "\n",
    "a. Select only earthquake events and store them as `eqk` (variable name)\n",
    "\n",
    "b. Update the index of `eqk` to be the `id` column of the dataframe. \n",
    "\n",
    "c. Check the new index by viewing the first 3 rows of `eqk`."
   ]
  },
  {
   "cell_type": "code",
   "execution_count": null,
   "metadata": {
    "vscode": {
     "languageId": "python"
    }
   },
   "outputs": [],
   "source": [
    "#Selects all rows where the type was earthquake and stores the new data frame as eqk\n",
    "eqk = raw_eqk[(raw_eqk.type == 'earthquake')]\n",
    "\n",
    "#updates the index of the eqk data frame to be the id column. \n",
    "eqk.set_index('id', inplace = True)\n",
    "\n",
    "#checks the first 3 rows of the data frame.\n",
    "eqk.head(3)"
   ]
  },
  {
   "cell_type": "markdown",
   "metadata": {},
   "source": [
    "# 5\n",
    "\n",
    "How many events were left out of `raw_eqk` when you selected ony earthqake events? \n",
    "\n",
    "HINT: There are *many* ways you can get this information. One could be to use (2)."
   ]
  },
  {
   "cell_type": "code",
   "execution_count": 60,
   "metadata": {
    "vscode": {
     "languageId": "python"
    }
   },
   "outputs": [
    {
     "data": {
      "text/html": [
       "<div>\n",
       "<style scoped>\n",
       "    .dataframe tbody tr th:only-of-type {\n",
       "        vertical-align: middle;\n",
       "    }\n",
       "\n",
       "    .dataframe tbody tr th {\n",
       "        vertical-align: top;\n",
       "    }\n",
       "\n",
       "    .dataframe thead th {\n",
       "        text-align: right;\n",
       "    }\n",
       "</style>\n",
       "<table border=\"1\" class=\"dataframe\">\n",
       "  <thead>\n",
       "    <tr style=\"text-align: right;\">\n",
       "      <th></th>\n",
       "      <th>time</th>\n",
       "      <th>latitude</th>\n",
       "      <th>longitude</th>\n",
       "      <th>depth</th>\n",
       "      <th>mag</th>\n",
       "      <th>magType</th>\n",
       "      <th>nst</th>\n",
       "      <th>gap</th>\n",
       "      <th>dmin</th>\n",
       "      <th>rms</th>\n",
       "      <th>...</th>\n",
       "      <th>updated</th>\n",
       "      <th>place</th>\n",
       "      <th>type</th>\n",
       "      <th>horizontalError</th>\n",
       "      <th>depthError</th>\n",
       "      <th>magError</th>\n",
       "      <th>magNst</th>\n",
       "      <th>status</th>\n",
       "      <th>locationSource</th>\n",
       "      <th>magSource</th>\n",
       "    </tr>\n",
       "  </thead>\n",
       "  <tbody>\n",
       "    <tr>\n",
       "      <th>163</th>\n",
       "      <td>2023-10-10T05:46:19.008Z</td>\n",
       "      <td>58.2930</td>\n",
       "      <td>-133.4128</td>\n",
       "      <td>0.0</td>\n",
       "      <td>2.6</td>\n",
       "      <td>ml</td>\n",
       "      <td>NaN</td>\n",
       "      <td>NaN</td>\n",
       "      <td>NaN</td>\n",
       "      <td>0.73</td>\n",
       "      <td>...</td>\n",
       "      <td>2023-10-10T05:54:43.337Z</td>\n",
       "      <td>59 km E of Juneau, Alaska</td>\n",
       "      <td>ice quake</td>\n",
       "      <td>NaN</td>\n",
       "      <td>0.0</td>\n",
       "      <td>NaN</td>\n",
       "      <td>NaN</td>\n",
       "      <td>reviewed</td>\n",
       "      <td>ak</td>\n",
       "      <td>ak</td>\n",
       "    </tr>\n",
       "    <tr>\n",
       "      <th>164</th>\n",
       "      <td>2023-10-10T05:17:53.091Z</td>\n",
       "      <td>58.3404</td>\n",
       "      <td>-133.3990</td>\n",
       "      <td>0.0</td>\n",
       "      <td>2.8</td>\n",
       "      <td>ml</td>\n",
       "      <td>NaN</td>\n",
       "      <td>NaN</td>\n",
       "      <td>NaN</td>\n",
       "      <td>0.63</td>\n",
       "      <td>...</td>\n",
       "      <td>2023-10-10T05:49:07.570Z</td>\n",
       "      <td>59 km E of Juneau, Alaska</td>\n",
       "      <td>ice quake</td>\n",
       "      <td>NaN</td>\n",
       "      <td>0.0</td>\n",
       "      <td>NaN</td>\n",
       "      <td>NaN</td>\n",
       "      <td>reviewed</td>\n",
       "      <td>ak</td>\n",
       "      <td>ak</td>\n",
       "    </tr>\n",
       "  </tbody>\n",
       "</table>\n",
       "<p>2 rows × 22 columns</p>\n",
       "</div>"
      ],
      "text/plain": [
       "                         time  latitude  longitude  depth  mag magType  nst  \\\n",
       "163  2023-10-10T05:46:19.008Z   58.2930  -133.4128    0.0  2.6      ml  NaN   \n",
       "164  2023-10-10T05:17:53.091Z   58.3404  -133.3990    0.0  2.8      ml  NaN   \n",
       "\n",
       "     gap  dmin   rms  ...                   updated  \\\n",
       "163  NaN   NaN  0.73  ...  2023-10-10T05:54:43.337Z   \n",
       "164  NaN   NaN  0.63  ...  2023-10-10T05:49:07.570Z   \n",
       "\n",
       "                         place       type horizontalError depthError  \\\n",
       "163  59 km E of Juneau, Alaska  ice quake             NaN        0.0   \n",
       "164  59 km E of Juneau, Alaska  ice quake             NaN        0.0   \n",
       "\n",
       "     magError  magNst    status  locationSource magSource  \n",
       "163       NaN     NaN  reviewed              ak        ak  \n",
       "164       NaN     NaN  reviewed              ak        ak  \n",
       "\n",
       "[2 rows x 22 columns]"
      ]
     },
     "execution_count": 61,
     "metadata": {},
     "output_type": "execute_result"
    }
   ],
   "source": [
    "#checks which rows in the raw_eqk data frame did not contain the earthquake event type and counts them\n",
    "raw_eqk[(raw_eqk.type != 'earthquake')].shape[0]"
   ]
  },
  {
   "cell_type": "markdown",
   "metadata": {},
   "source": [
    "# 6\n",
    "Without creating any new variables, plot a histogram of the eartquake's magnitudes (`eqk` data). Add a title and change the color of your graph."
   ]
  },
  {
   "cell_type": "code",
   "execution_count": 53,
   "metadata": {
    "vscode": {
     "languageId": "python"
    }
   },
   "outputs": [
    {
     "data": {
      "text/plain": [
       "<AxesSubplot:title={'center':'Earthquake Magnitude Data'}, ylabel='Frequency'>"
      ]
     },
     "execution_count": 53,
     "metadata": {},
     "output_type": "execute_result"
    },
    {
     "data": {
      "image/png": "[encoded data removed]",
      "text/plain": [
       "<Figure size 640x480 with 1 Axes>"
      ]
     },
     "metadata": {},
     "output_type": "display_data"
    }
   ],
   "source": [
    "#creates a histogram plot of earthquake magnituds and adds a title, label, grid, and color\n",
    "eqk.mag.plot(kind='hist',\n",
    "             title='Earthquake Magnitude Data',\n",
    "             xlabel='Magnitude',\n",
    "             color = 'green',\n",
    "             grid=True)"
   ]
  },
  {
   "cell_type": "markdown",
   "metadata": {},
   "source": [
    "# 7\n",
    "\n",
    "a. Create a new variable `top20` with the 20 earthquakes with largest magnitude. HINT: [`pandas.Series.nlargest`](https://pandas.pydata.org/docs/reference/api/pandas.Series.nlargest.html)\n",
    "\n",
    "b. Create a bar plot showing the magnitude of the top 20 earthquakes. Update the title, x-axis label, y-axis label, and color of the bars. \n",
    "\n",
    "c. What is the role of the `top20` index in the graph? What would have happened if we had not updated the index?"
   ]
  },
  {
   "cell_type": "code",
   "execution_count": 75,
   "metadata": {
    "vscode": {
     "languageId": "python"
    }
   },
   "outputs": [
    {
     "name": "stdout",
     "output_type": "stream",
     "text": [
      "id\n",
      "us6000ldus    5.5\n",
      "us6000lepj    5.5\n",
      "us6000ldsf    5.6\n",
      "us6000lduj    5.6\n",
      "us6000leee    5.6\n",
      "us6000leyu    5.6\n",
      "us6000ldv4    5.7\n",
      "us6000leg0    5.7\n",
      "us6000lfhl    5.7\n",
      "us6000ldny    5.9\n",
      "us6000ldpv    5.9\n",
      "us6000le27    5.9\n",
      "us6000legn    6.0\n",
      "us6000lf9x    6.0\n",
      "us6000ldpg    6.3\n",
      "us6000ldpm    6.3\n",
      "us6000len8    6.3\n",
      "us6000lews    6.3\n",
      "us6000ldqd    6.7\n",
      "us6000ldqf    6.9\n",
      "Name: mag, dtype: float64\n"
     ]
    },
    {
     "data": {
      "text/plain": [
       "<AxesSubplot:title={'center':'Top 20 Earthquake Magnitude Data'}, xlabel='Site Id', ylabel='Magnitude'>"
      ]
     },
     "execution_count": 75,
     "metadata": {},
     "output_type": "execute_result"
    },
    {
     "data": {
      "image/png": "[encoded data removed]",
      "text/plain": [
       "<Figure size 640x480 with 1 Axes>"
      ]
     },
     "metadata": {},
     "output_type": "display_data"
    }
   ],
   "source": [
    "#creates a new variable of the top 20 earthquakes with largest magnitudes\n",
    "top20 = eqk.mag.nlargest(20).sort_values()\n",
    "#print(top20)\n",
    "\n",
    "#creates a barplot of the top 20 earthquake magnitudes and adds a title, labels, color, and grid\n",
    "top20.plot(kind='bar',\n",
    "             title='Top 20 Earthquake Magnitude Data',\n",
    "             xlabel='Site Id',\n",
    "             ylabel='Magnitude',\n",
    "             color = 'pink',\n",
    "             grid=True)"
   ]
  },
  {
   "cell_type": "markdown",
   "metadata": {},
   "source": [
    "The role of the index in the top 20 data frame is to know which magnitudes go with each site. If we had not updated the index, we would have no idea which site had which magnitude. We wouldn't be able to make a clear plot differentiating the magnitudes."
   ]
  },
  {
   "cell_type": "markdown",
   "metadata": {},
   "source": [
    "# 8 \n",
    "We are interested in place, magnitude and depth of the top 20 earthquakes with largest magnitude. Select this data from the `eqk` data frame.\n",
    "\n",
    "HINT: This is a \"select rows and columns simultaneously\" from `eqk` exercise. To select the rows you could use the index of `top20`."
   ]
  },
  {
   "cell_type": "code",
   "execution_count": 96,
   "metadata": {
    "vscode": {
     "languageId": "python"
    }
   },
   "outputs": [
    {
     "data": {
      "text/html": [
       "<div>\n",
       "<style scoped>\n",
       "    .dataframe tbody tr th:only-of-type {\n",
       "        vertical-align: middle;\n",
       "    }\n",
       "\n",
       "    .dataframe tbody tr th {\n",
       "        vertical-align: top;\n",
       "    }\n",
       "\n",
       "    .dataframe thead th {\n",
       "        text-align: right;\n",
       "    }\n",
       "</style>\n",
       "<table border=\"1\" class=\"dataframe\">\n",
       "  <thead>\n",
       "    <tr style=\"text-align: right;\">\n",
       "      <th></th>\n",
       "      <th>depth</th>\n",
       "      <th>mag</th>\n",
       "      <th>place</th>\n",
       "    </tr>\n",
       "    <tr>\n",
       "      <th>id</th>\n",
       "      <th></th>\n",
       "      <th></th>\n",
       "      <th></th>\n",
       "    </tr>\n",
       "  </thead>\n",
       "  <tbody>\n",
       "    <tr>\n",
       "      <th>us6000ldqd</th>\n",
       "      <td>53.498</td>\n",
       "      <td>6.7</td>\n",
       "      <td>56 km SE of Madang, Papua New Guinea</td>\n",
       "    </tr>\n",
       "    <tr>\n",
       "      <th>us6000ldpm</th>\n",
       "      <td>10.000</td>\n",
       "      <td>6.3</td>\n",
       "      <td>29 km NNE of Zindah Jān, Afghanistan</td>\n",
       "    </tr>\n",
       "    <tr>\n",
       "      <th>us6000len8</th>\n",
       "      <td>9.000</td>\n",
       "      <td>6.3</td>\n",
       "      <td>NaN</td>\n",
       "    </tr>\n",
       "    <tr>\n",
       "      <th>us6000ldpg</th>\n",
       "      <td>14.000</td>\n",
       "      <td>6.3</td>\n",
       "      <td>33 km NNE of Zindah Jān, Afghanistan</td>\n",
       "    </tr>\n",
       "    <tr>\n",
       "      <th>us6000lews</th>\n",
       "      <td>4.790</td>\n",
       "      <td>6.3</td>\n",
       "      <td>NaN</td>\n",
       "    </tr>\n",
       "    <tr>\n",
       "      <th>us6000lf9x</th>\n",
       "      <td>4.864</td>\n",
       "      <td>6.0</td>\n",
       "      <td>NaN</td>\n",
       "    </tr>\n",
       "    <tr>\n",
       "      <th>us6000legn</th>\n",
       "      <td>247.255</td>\n",
       "      <td>6.0</td>\n",
       "      <td>57 km WSW of Abra Pampa, Argentina</td>\n",
       "    </tr>\n",
       "    <tr>\n",
       "      <th>us6000le27</th>\n",
       "      <td>7.000</td>\n",
       "      <td>5.9</td>\n",
       "      <td>NaN</td>\n",
       "    </tr>\n",
       "    <tr>\n",
       "      <th>us6000ldpv</th>\n",
       "      <td>7.726</td>\n",
       "      <td>5.9</td>\n",
       "      <td>35 km NNW of Herāt, Afghanistan</td>\n",
       "    </tr>\n",
       "    <tr>\n",
       "      <th>us6000ldny</th>\n",
       "      <td>108.369</td>\n",
       "      <td>5.9</td>\n",
       "      <td>8 km W of Cuauhtémoc, Mexico</td>\n",
       "    </tr>\n",
       "    <tr>\n",
       "      <th>us6000ldv4</th>\n",
       "      <td>55.529</td>\n",
       "      <td>5.7</td>\n",
       "      <td>eastern New Guinea region, Papua New Guinea</td>\n",
       "    </tr>\n",
       "    <tr>\n",
       "      <th>us6000leg0</th>\n",
       "      <td>25.023</td>\n",
       "      <td>5.7</td>\n",
       "      <td>62 km NW of Hihifo, Tonga</td>\n",
       "    </tr>\n",
       "    <tr>\n",
       "      <th>us6000lfhl</th>\n",
       "      <td>415.151</td>\n",
       "      <td>5.7</td>\n",
       "      <td>NaN</td>\n",
       "    </tr>\n",
       "    <tr>\n",
       "      <th>us6000leee</th>\n",
       "      <td>538.053</td>\n",
       "      <td>5.6</td>\n",
       "      <td>63 km SE of Embarcación, Argentina</td>\n",
       "    </tr>\n",
       "    <tr>\n",
       "      <th>us6000leyu</th>\n",
       "      <td>118.401</td>\n",
       "      <td>5.6</td>\n",
       "      <td>162 km W of Nikolski, Alaska</td>\n",
       "    </tr>\n",
       "    <tr>\n",
       "      <th>us6000lduj</th>\n",
       "      <td>43.990</td>\n",
       "      <td>5.6</td>\n",
       "      <td>eastern New Guinea region, Papua New Guinea</td>\n",
       "    </tr>\n",
       "    <tr>\n",
       "      <th>us6000ldsf</th>\n",
       "      <td>68.959</td>\n",
       "      <td>5.6</td>\n",
       "      <td>34 km SSE of Madang, Papua New Guinea</td>\n",
       "    </tr>\n",
       "    <tr>\n",
       "      <th>us6000ldus</th>\n",
       "      <td>66.738</td>\n",
       "      <td>5.5</td>\n",
       "      <td>48 km SSE of Madang, Papua New Guinea</td>\n",
       "    </tr>\n",
       "    <tr>\n",
       "      <th>us6000lepj</th>\n",
       "      <td>10.000</td>\n",
       "      <td>5.5</td>\n",
       "      <td>Balleny Islands region</td>\n",
       "    </tr>\n",
       "    <tr>\n",
       "      <th>us6000ldph</th>\n",
       "      <td>11.438</td>\n",
       "      <td>5.5</td>\n",
       "      <td>29 km NE of Zindah Jān, Afghanistan</td>\n",
       "    </tr>\n",
       "  </tbody>\n",
       "</table>\n",
       "</div>"
      ],
      "text/plain": [
       "              depth  mag                                        place\n",
       "id                                                                   \n",
       "us6000ldqd   53.498  6.7         56 km SE of Madang, Papua New Guinea\n",
       "us6000ldpm   10.000  6.3         29 km NNE of Zindah Jān, Afghanistan\n",
       "us6000len8    9.000  6.3                                          NaN\n",
       "us6000ldpg   14.000  6.3         33 km NNE of Zindah Jān, Afghanistan\n",
       "us6000lews    4.790  6.3                                          NaN\n",
       "us6000lf9x    4.864  6.0                                          NaN\n",
       "us6000legn  247.255  6.0           57 km WSW of Abra Pampa, Argentina\n",
       "us6000le27    7.000  5.9                                          NaN\n",
       "us6000ldpv    7.726  5.9              35 km NNW of Herāt, Afghanistan\n",
       "us6000ldny  108.369  5.9                 8 km W of Cuauhtémoc, Mexico\n",
       "us6000ldv4   55.529  5.7  eastern New Guinea region, Papua New Guinea\n",
       "us6000leg0   25.023  5.7                    62 km NW of Hihifo, Tonga\n",
       "us6000lfhl  415.151  5.7                                          NaN\n",
       "us6000leee  538.053  5.6           63 km SE of Embarcación, Argentina\n",
       "us6000leyu  118.401  5.6                 162 km W of Nikolski, Alaska\n",
       "us6000lduj   43.990  5.6  eastern New Guinea region, Papua New Guinea\n",
       "us6000ldsf   68.959  5.6        34 km SSE of Madang, Papua New Guinea\n",
       "us6000ldus   66.738  5.5        48 km SSE of Madang, Papua New Guinea\n",
       "us6000lepj   10.000  5.5                       Balleny Islands region\n",
       "us6000ldph   11.438  5.5          29 km NE of Zindah Jān, Afghanistan"
      ]
     },
     "execution_count": 96,
     "metadata": {},
     "output_type": "execute_result"
    }
   ],
   "source": [
    "#Sorts the mag values in decending order and stores the data frame as magsort\n",
    "magsort = eqk.sort_values('mag', ascending = False)\n",
    "\n",
    "#uses iloc to select the top 20 rows and specified columns from the magsort data frame.\n",
    "top_20 = magsort.iloc[ 1:21, [3, 4, 12]]\n",
    "top_20"
   ]
  },
  {
   "cell_type": "markdown",
   "metadata": {},
   "source": [
    "# 9 \n",
    "\n",
    "Without creating any new variables, visualize the locations of eartquakes with magnitude greter than 5 by creating a scatter plot of their latitude and longitude. Make the following adjustments to the basic plot:\n",
    "- update the title\n",
    "- color the points by magnitude (HINT: [check the `c` parameter here](https://pandas.pydata.org/pandas-docs/stable/reference/api/pandas.DataFrame.plot.scatter.html))\n",
    "- adjust the `alpha` (transparency) argument\n",
    "- adjust the `colormap` argument to maket it look prettier. [Click for ideas of sequential colormaps.](https://matplotlib.org/stable/users/explain/colors/colormaps.html)\n"
   ]
  },
  {
   "cell_type": "code",
   "execution_count": 122,
   "metadata": {
    "vscode": {
     "languageId": "python"
    }
   },
   "outputs": [
    {
     "data": {
      "text/plain": [
       "<AxesSubplot:title={'center':'Locations of Earthquake With a Magnutude Greater Than 5'}, xlabel='longitude', ylabel='latitude'>"
      ]
     },
     "execution_count": 122,
     "metadata": {},
     "output_type": "execute_result"
    },
    {
     "data": {
      "image/png": "[encoded data removed]",
      "text/plain": [
       "<Figure size 640x480 with 2 Axes>"
      ]
     },
     "metadata": {},
     "output_type": "display_data"
    }
   ],
   "source": [
    "#creates a new data frame where the magnitude values are greater than 5\n",
    "new_eqk = eqk[(eqk.mag > 5)]\n",
    "\n",
    "#creates a scatter plot where x = longitude and y = latitude.\n",
    "new_eqk.plot(kind='scatter',\n",
    "             x='longitude', \n",
    "             y='latitude',\n",
    "             title='Locations of Earthquake With a Magnutude Greater Than 5',  #adds title\n",
    "             xlabel='longitude',  #adds x label\n",
    "             ylabel='latitude',   #adds y label\n",
    "             c = 'mag', #chooses the mag values to decide the color of the points\n",
    "             colormap='viridis', #the color scheme\n",
    "             alpha=0.6  # controls transparency\n",
    "            )"
   ]
  }
 ],
 "metadata": {
  "kernelspec": {
   "display_name": "Anaconda 3 (Base)",
   "language": "python",
   "name": "base"
  },
  "language_info": {
   "codemirror_mode": {
    "name": "ipython",
    "version": 3
   },
   "file_extension": ".py",
   "mimetype": "text/x-python",
   "name": "python",
   "nbconvert_exporter": "python",
   "pygments_lexer": "ipython3",
   "version": "3.9.13"
  }
 },
 "nbformat": 4,
 "nbformat_minor": 4
}
